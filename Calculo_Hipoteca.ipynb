{
  "nbformat": 4,
  "nbformat_minor": 0,
  "metadata": {
    "colab": {
      "name": "Calculo_Hipoteca.ipynb",
      "provenance": [],
      "collapsed_sections": [],
      "authorship_tag": "ABX9TyMimGV0bliSCVT4VdW7UAbE",
      "include_colab_link": true
    },
    "kernelspec": {
      "name": "python3",
      "display_name": "Python 3"
    },
    "language_info": {
      "name": "python"
    }
  },
  "cells": [
    {
      "cell_type": "markdown",
      "metadata": {
        "id": "view-in-github",
        "colab_type": "text"
      },
      "source": [
        "<a href=\"https://colab.research.google.com/github/AlejandroDiazRamos/CodingDojoDataScience/blob/main/Calculo_Hipoteca.ipynb\" target=\"_parent\"><img src=\"https://colab.research.google.com/assets/colab-badge.svg\" alt=\"Open In Colab\"/></a>"
      ]
    },
    {
      "cell_type": "markdown",
      "source": [
        "# Alejandro Díaz\n",
        "Ejercicio: Calculo de hipoteca"
      ],
      "metadata": {
        "id": "mupmRjTLXvN_"
      }
    },
    {
      "cell_type": "code",
      "execution_count": 1,
      "metadata": {
        "colab": {
          "base_uri": "https://localhost:8080/"
        },
        "id": "3fT56_TMXiFH",
        "outputId": "5c9f2560-8c49-49f5-d71d-cb355632926a"
      },
      "outputs": [
        {
          "output_type": "stream",
          "name": "stdout",
          "text": [
            "El pago mensaul de la hipoteca es de:  12000\n"
          ]
        }
      ],
      "source": [
        "P = 400000\n",
        "r = 0.03\n",
        "n = 360\n",
        "valor1 = r*(1+r)**n\n",
        "valor2 = (1+r)**n-1\n",
        "valor3 = int(P*(valor1/valor2))\n",
        "\n",
        "print('El pago mensaul de la hipoteca es de: ', valor3)"
      ]
    }
  ]
}