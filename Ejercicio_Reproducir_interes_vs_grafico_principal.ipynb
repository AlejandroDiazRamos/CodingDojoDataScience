{
  "nbformat": 4,
  "nbformat_minor": 0,
  "metadata": {
    "colab": {
      "name": "Ejercicio_Reproducir_interes_vs_grafico_principal.ipynb",
      "provenance": [],
      "collapsed_sections": [],
      "authorship_tag": "ABX9TyPrP7irGfABRl1dUQNh6Jwx",
      "include_colab_link": true
    },
    "kernelspec": {
      "name": "python3",
      "display_name": "Python 3"
    },
    "language_info": {
      "name": "python"
    }
  },
  "cells": [
    {
      "cell_type": "markdown",
      "metadata": {
        "id": "view-in-github",
        "colab_type": "text"
      },
      "source": [
        "<a href=\"https://colab.research.google.com/github/AlejandroDiazRamos/CodingDojoDataScience/blob/main/Ejercicio_Reproducir_interes_vs_grafico_principal.ipynb\" target=\"_parent\"><img src=\"https://colab.research.google.com/assets/colab-badge.svg\" alt=\"Open In Colab\"/></a>"
      ]
    },
    {
      "cell_type": "code",
      "execution_count": 1,
      "metadata": {
        "colab": {
          "base_uri": "https://localhost:8080/"
        },
        "id": "1xId1POSUTZs",
        "outputId": "8fd08d3f-8e41-487d-9d09-5c31db86d14c"
      },
      "outputs": [
        {
          "output_type": "stream",
          "name": "stdout",
          "text": [
            "Mounted at /content/drive\n"
          ]
        }
      ],
      "source": [
        "from google.colab import drive\n",
        "drive.mount('/content/drive')\n"
      ]
    },
    {
      "cell_type": "code",
      "source": [
        "import matplotlib.pyplot as plt\n",
        "import pandas as pd\n",
        "import numpy as np"
      ],
      "metadata": {
        "id": "8qiHE0KOVRyS"
      },
      "execution_count": 2,
      "outputs": []
    },
    {
      "cell_type": "code",
      "source": [
        "filename = '/content/drive/MyDrive/CodingDojo/DataScience/Matplotlib/mortgages.csv'\n",
        "df = pd.read_csv(filename)\n",
        "df.head()"
      ],
      "metadata": {
        "colab": {
          "base_uri": "https://localhost:8080/",
          "height": 206
        },
        "id": "ZFcfJWX-VYDo",
        "outputId": "b007aeac-13a5-4f6a-cb7e-c70fa1af06fc"
      },
      "execution_count": 3,
      "outputs": [
        {
          "output_type": "execute_result",
          "data": {
            "text/html": [
              "\n",
              "  <div id=\"df-40dbc138-8d0e-44ac-9345-b3fd693a8128\">\n",
              "    <div class=\"colab-df-container\">\n",
              "      <div>\n",
              "<style scoped>\n",
              "    .dataframe tbody tr th:only-of-type {\n",
              "        vertical-align: middle;\n",
              "    }\n",
              "\n",
              "    .dataframe tbody tr th {\n",
              "        vertical-align: top;\n",
              "    }\n",
              "\n",
              "    .dataframe thead th {\n",
              "        text-align: right;\n",
              "    }\n",
              "</style>\n",
              "<table border=\"1\" class=\"dataframe\">\n",
              "  <thead>\n",
              "    <tr style=\"text-align: right;\">\n",
              "      <th></th>\n",
              "      <th>Month</th>\n",
              "      <th>Starting Balance</th>\n",
              "      <th>Repayment</th>\n",
              "      <th>Interest Paid</th>\n",
              "      <th>Principal Paid</th>\n",
              "      <th>New Balance</th>\n",
              "      <th>Mortgage Name</th>\n",
              "      <th>Interest Rate</th>\n",
              "    </tr>\n",
              "  </thead>\n",
              "  <tbody>\n",
              "    <tr>\n",
              "      <th>0</th>\n",
              "      <td>1</td>\n",
              "      <td>400000.00</td>\n",
              "      <td>1686.42</td>\n",
              "      <td>1000.00</td>\n",
              "      <td>686.42</td>\n",
              "      <td>399313.58</td>\n",
              "      <td>30 Year</td>\n",
              "      <td>0.03</td>\n",
              "    </tr>\n",
              "    <tr>\n",
              "      <th>1</th>\n",
              "      <td>2</td>\n",
              "      <td>399313.58</td>\n",
              "      <td>1686.42</td>\n",
              "      <td>998.28</td>\n",
              "      <td>688.14</td>\n",
              "      <td>398625.44</td>\n",
              "      <td>30 Year</td>\n",
              "      <td>0.03</td>\n",
              "    </tr>\n",
              "    <tr>\n",
              "      <th>2</th>\n",
              "      <td>3</td>\n",
              "      <td>398625.44</td>\n",
              "      <td>1686.42</td>\n",
              "      <td>996.56</td>\n",
              "      <td>689.86</td>\n",
              "      <td>397935.58</td>\n",
              "      <td>30 Year</td>\n",
              "      <td>0.03</td>\n",
              "    </tr>\n",
              "    <tr>\n",
              "      <th>3</th>\n",
              "      <td>4</td>\n",
              "      <td>397935.58</td>\n",
              "      <td>1686.42</td>\n",
              "      <td>994.83</td>\n",
              "      <td>691.59</td>\n",
              "      <td>397243.99</td>\n",
              "      <td>30 Year</td>\n",
              "      <td>0.03</td>\n",
              "    </tr>\n",
              "    <tr>\n",
              "      <th>4</th>\n",
              "      <td>5</td>\n",
              "      <td>397243.99</td>\n",
              "      <td>1686.42</td>\n",
              "      <td>993.10</td>\n",
              "      <td>693.32</td>\n",
              "      <td>396550.67</td>\n",
              "      <td>30 Year</td>\n",
              "      <td>0.03</td>\n",
              "    </tr>\n",
              "  </tbody>\n",
              "</table>\n",
              "</div>\n",
              "      <button class=\"colab-df-convert\" onclick=\"convertToInteractive('df-40dbc138-8d0e-44ac-9345-b3fd693a8128')\"\n",
              "              title=\"Convert this dataframe to an interactive table.\"\n",
              "              style=\"display:none;\">\n",
              "        \n",
              "  <svg xmlns=\"http://www.w3.org/2000/svg\" height=\"24px\"viewBox=\"0 0 24 24\"\n",
              "       width=\"24px\">\n",
              "    <path d=\"M0 0h24v24H0V0z\" fill=\"none\"/>\n",
              "    <path d=\"M18.56 5.44l.94 2.06.94-2.06 2.06-.94-2.06-.94-.94-2.06-.94 2.06-2.06.94zm-11 1L8.5 8.5l.94-2.06 2.06-.94-2.06-.94L8.5 2.5l-.94 2.06-2.06.94zm10 10l.94 2.06.94-2.06 2.06-.94-2.06-.94-.94-2.06-.94 2.06-2.06.94z\"/><path d=\"M17.41 7.96l-1.37-1.37c-.4-.4-.92-.59-1.43-.59-.52 0-1.04.2-1.43.59L10.3 9.45l-7.72 7.72c-.78.78-.78 2.05 0 2.83L4 21.41c.39.39.9.59 1.41.59.51 0 1.02-.2 1.41-.59l7.78-7.78 2.81-2.81c.8-.78.8-2.07 0-2.86zM5.41 20L4 18.59l7.72-7.72 1.47 1.35L5.41 20z\"/>\n",
              "  </svg>\n",
              "      </button>\n",
              "      \n",
              "  <style>\n",
              "    .colab-df-container {\n",
              "      display:flex;\n",
              "      flex-wrap:wrap;\n",
              "      gap: 12px;\n",
              "    }\n",
              "\n",
              "    .colab-df-convert {\n",
              "      background-color: #E8F0FE;\n",
              "      border: none;\n",
              "      border-radius: 50%;\n",
              "      cursor: pointer;\n",
              "      display: none;\n",
              "      fill: #1967D2;\n",
              "      height: 32px;\n",
              "      padding: 0 0 0 0;\n",
              "      width: 32px;\n",
              "    }\n",
              "\n",
              "    .colab-df-convert:hover {\n",
              "      background-color: #E2EBFA;\n",
              "      box-shadow: 0px 1px 2px rgba(60, 64, 67, 0.3), 0px 1px 3px 1px rgba(60, 64, 67, 0.15);\n",
              "      fill: #174EA6;\n",
              "    }\n",
              "\n",
              "    [theme=dark] .colab-df-convert {\n",
              "      background-color: #3B4455;\n",
              "      fill: #D2E3FC;\n",
              "    }\n",
              "\n",
              "    [theme=dark] .colab-df-convert:hover {\n",
              "      background-color: #434B5C;\n",
              "      box-shadow: 0px 1px 3px 1px rgba(0, 0, 0, 0.15);\n",
              "      filter: drop-shadow(0px 1px 2px rgba(0, 0, 0, 0.3));\n",
              "      fill: #FFFFFF;\n",
              "    }\n",
              "  </style>\n",
              "\n",
              "      <script>\n",
              "        const buttonEl =\n",
              "          document.querySelector('#df-40dbc138-8d0e-44ac-9345-b3fd693a8128 button.colab-df-convert');\n",
              "        buttonEl.style.display =\n",
              "          google.colab.kernel.accessAllowed ? 'block' : 'none';\n",
              "\n",
              "        async function convertToInteractive(key) {\n",
              "          const element = document.querySelector('#df-40dbc138-8d0e-44ac-9345-b3fd693a8128');\n",
              "          const dataTable =\n",
              "            await google.colab.kernel.invokeFunction('convertToInteractive',\n",
              "                                                     [key], {});\n",
              "          if (!dataTable) return;\n",
              "\n",
              "          const docLinkHtml = 'Like what you see? Visit the ' +\n",
              "            '<a target=\"_blank\" href=https://colab.research.google.com/notebooks/data_table.ipynb>data table notebook</a>'\n",
              "            + ' to learn more about interactive tables.';\n",
              "          element.innerHTML = '';\n",
              "          dataTable['output_type'] = 'display_data';\n",
              "          await google.colab.output.renderOutput(dataTable, element);\n",
              "          const docLink = document.createElement('div');\n",
              "          docLink.innerHTML = docLinkHtml;\n",
              "          element.appendChild(docLink);\n",
              "        }\n",
              "      </script>\n",
              "    </div>\n",
              "  </div>\n",
              "  "
            ],
            "text/plain": [
              "   Month  Starting Balance  Repayment  ...  New Balance  Mortgage Name  Interest Rate\n",
              "0      1         400000.00    1686.42  ...    399313.58        30 Year           0.03\n",
              "1      2         399313.58    1686.42  ...    398625.44        30 Year           0.03\n",
              "2      3         398625.44    1686.42  ...    397935.58        30 Year           0.03\n",
              "3      4         397935.58    1686.42  ...    397243.99        30 Year           0.03\n",
              "4      5         397243.99    1686.42  ...    396550.67        30 Year           0.03\n",
              "\n",
              "[5 rows x 8 columns]"
            ]
          },
          "metadata": {},
          "execution_count": 3
        }
      ]
    },
    {
      "cell_type": "markdown",
      "source": [
        "# Tarea\n",
        " \n",
        "El conjunto de datos que se te da aquí es el conjunto de datos hipotecario usado anteriormente en este curso. \n",
        "Tu meta es reproducir un gráfico. El plot negro es la hipoteca de 30 años al 5% y la línea azul es al 3%. \n",
        "Lo que está graficado es el interés acumulado pagado en el transcurso del préstamo. Nota que no es un gráfico hermoso.\n",
        "No dice qué línea corresponde a qué hipoteca y el gráfico en sí no es visualmente el más atractivo. \n",
        "Estos son los tipos de problemas que se cubren a lo largo del curso. "
      ],
      "metadata": {
        "id": "mHRMBTjhW2nr"
      }
    },
    {
      "cell_type": "code",
      "source": [
        "#cumsum() suma acumulativa\n",
        "# primer acumulativo\n",
        "filtro1 = df[\"Interest Rate\"] == 0.03\n",
        "filtro2 = df[\"Mortgage Name\"] == \"30 Year\"\n",
        "filtro3 = df['Interest Rate'] == 0.05\n",
        "df1 = df[(filtro1 & filtro2)]\n",
        "# se agrega nueva columna y se agrega el interes acumulado\n",
        "df1['InteresAcumlado1'] = df1['Interest Paid'].cumsum()\n",
        "# se crea grupo por ordeneado por mes con el interes acumulado\n",
        "grupo1 = df1.groupby(['Month'])['InteresAcumlado1'].sum()\n",
        "# se arma el eje x,y\n",
        "lineaxA=list(grupo1.index)\n",
        "lineayA=list(grupo1.values)\n",
        "# se repite para la segunda linea\n",
        "\n",
        "df2 = df[(filtro3 &filtro2)]\n",
        "df2['InteresAcumulado2'] = df2['Interest Paid'].cumsum()\n",
        "grupo2 = df2.groupby(['Month'])['InteresAcumulado2'].sum()\n",
        "\n",
        "lineaxB=list(grupo2.index)\n",
        "lineayB=list(grupo2.values)\n",
        "\n",
        "# se arma el grafico\n",
        "\n",
        "\n",
        "plt.style.use(\"seaborn\")\n",
        "plt.plot(lineaxA,lineayA,marker = '', markersize = 10,c='blue',label=\"30 Year 3% APR\")\n",
        "plt.plot(lineaxB,lineayB,marker = '', markersize = 10,c='black',label=\"30 Year 5% APR\")\n",
        "\n",
        "plt.legend(loc=\"lower right\")\n",
        "plt.xlabel(\"MESES\",fontsize=\"30\")\n",
        "plt.ylabel(\"VALOR\",fontsize=\"30\")\n",
        "plt.title(\"Grafico Hipotecario\", fontsize = \"30\");\n",
        "\n"
      ],
      "metadata": {
        "colab": {
          "base_uri": "https://localhost:8080/",
          "height": 608
        },
        "id": "dIebfEMMWktB",
        "outputId": "da55fba4-db87-4191-8de9-52c94deb2c7d"
      },
      "execution_count": 24,
      "outputs": [
        {
          "output_type": "stream",
          "name": "stderr",
          "text": [
            "/usr/local/lib/python3.7/dist-packages/ipykernel_launcher.py:8: SettingWithCopyWarning: \n",
            "A value is trying to be set on a copy of a slice from a DataFrame.\n",
            "Try using .loc[row_indexer,col_indexer] = value instead\n",
            "\n",
            "See the caveats in the documentation: https://pandas.pydata.org/pandas-docs/stable/user_guide/indexing.html#returning-a-view-versus-a-copy\n",
            "  \n",
            "/usr/local/lib/python3.7/dist-packages/ipykernel_launcher.py:17: SettingWithCopyWarning: \n",
            "A value is trying to be set on a copy of a slice from a DataFrame.\n",
            "Try using .loc[row_indexer,col_indexer] = value instead\n",
            "\n",
            "See the caveats in the documentation: https://pandas.pydata.org/pandas-docs/stable/user_guide/indexing.html#returning-a-view-versus-a-copy\n"
          ]
        },
        {
          "output_type": "display_data",
          "data": {
            "image/png": "[encoded data removed]",
            "text/plain": [
              "<Figure size 576x396 with 1 Axes>"
            ]
          },
          "metadata": {}
        }
      ]
    },
    {
      "cell_type": "code",
      "source": [
        ""
      ],
      "metadata": {
        "id": "b9dkJJ5-bFHo"
      },
      "execution_count": null,
      "outputs": []
    }
  ]
}